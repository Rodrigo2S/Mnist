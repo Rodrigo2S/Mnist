{
 "cells": [
  {
   "cell_type": "code",
   "execution_count": 1,
   "id": "01ee1c94",
   "metadata": {},
   "outputs": [
    {
     "name": "stdout",
     "output_type": "stream",
     "text": [
      "Collecting keras\n",
      "  Downloading keras-2.9.0-py2.py3-none-any.whl (1.6 MB)\n",
      "Installing collected packages: keras\n",
      "Successfully installed keras-2.9.0\n"
     ]
    }
   ],
   "source": [
    "#!pip install keras"
   ]
  },
  {
   "cell_type": "code",
   "execution_count": 2,
   "id": "f7e18c9c",
   "metadata": {},
   "outputs": [
    {
     "name": "stdout",
     "output_type": "stream",
     "text": [
      "Collecting tensorflow\n",
      "  Downloading tensorflow-2.9.1-cp39-cp39-win_amd64.whl (444.0 MB)\n",
      "Requirement already satisfied: numpy>=1.20 in c:\\users\\rodrigo\\anaconda3\\lib\\site-packages (from tensorflow) (1.21.5)\n",
      "Collecting absl-py>=1.0.0\n",
      "  Downloading absl_py-1.1.0-py3-none-any.whl (123 kB)\n",
      "Requirement already satisfied: typing-extensions>=3.6.6 in c:\\users\\rodrigo\\anaconda3\\lib\\site-packages (from tensorflow) (4.1.1)\n",
      "Collecting opt-einsum>=2.3.2\n",
      "  Downloading opt_einsum-3.3.0-py3-none-any.whl (65 kB)\n",
      "Requirement already satisfied: keras<2.10.0,>=2.9.0rc0 in c:\\users\\rodrigo\\anaconda3\\lib\\site-packages (from tensorflow) (2.9.0)\n",
      "Requirement already satisfied: h5py>=2.9.0 in c:\\users\\rodrigo\\anaconda3\\lib\\site-packages (from tensorflow) (3.6.0)\n",
      "Requirement already satisfied: setuptools in c:\\users\\rodrigo\\anaconda3\\lib\\site-packages (from tensorflow) (61.2.0)\n",
      "Collecting tensorflow-io-gcs-filesystem>=0.23.1\n",
      "  Downloading tensorflow_io_gcs_filesystem-0.26.0-cp39-cp39-win_amd64.whl (1.5 MB)\n",
      "Collecting astunparse>=1.6.0\n",
      "  Downloading astunparse-1.6.3-py2.py3-none-any.whl (12 kB)\n",
      "Collecting keras-preprocessing>=1.1.1\n",
      "  Downloading Keras_Preprocessing-1.1.2-py2.py3-none-any.whl (42 kB)\n",
      "Requirement already satisfied: protobuf<3.20,>=3.9.2 in c:\\users\\rodrigo\\anaconda3\\lib\\site-packages (from tensorflow) (3.19.1)\n",
      "Requirement already satisfied: wrapt>=1.11.0 in c:\\users\\rodrigo\\anaconda3\\lib\\site-packages (from tensorflow) (1.12.1)\n",
      "Collecting flatbuffers<2,>=1.12\n",
      "  Downloading flatbuffers-1.12-py2.py3-none-any.whl (15 kB)\n",
      "Collecting libclang>=13.0.0\n",
      "  Downloading libclang-14.0.1-py2.py3-none-win_amd64.whl (14.2 MB)\n",
      "Requirement already satisfied: six>=1.12.0 in c:\\users\\rodrigo\\anaconda3\\lib\\site-packages (from tensorflow) (1.16.0)\n",
      "Requirement already satisfied: packaging in c:\\users\\rodrigo\\anaconda3\\lib\\site-packages (from tensorflow) (21.3)\n",
      "Collecting gast<=0.4.0,>=0.2.1\n",
      "  Downloading gast-0.4.0-py3-none-any.whl (9.8 kB)\n",
      "Collecting tensorboard<2.10,>=2.9\n",
      "  Downloading tensorboard-2.9.1-py3-none-any.whl (5.8 MB)\n",
      "Requirement already satisfied: grpcio<2.0,>=1.24.3 in c:\\users\\rodrigo\\anaconda3\\lib\\site-packages (from tensorflow) (1.42.0)\n",
      "Collecting tensorflow-estimator<2.10.0,>=2.9.0rc0\n",
      "  Downloading tensorflow_estimator-2.9.0-py2.py3-none-any.whl (438 kB)\n",
      "Collecting google-pasta>=0.1.1\n",
      "  Downloading google_pasta-0.2.0-py3-none-any.whl (57 kB)\n",
      "Collecting termcolor>=1.1.0\n",
      "  Downloading termcolor-1.1.0.tar.gz (3.9 kB)\n",
      "Requirement already satisfied: wheel<1.0,>=0.23.0 in c:\\users\\rodrigo\\anaconda3\\lib\\site-packages (from astunparse>=1.6.0->tensorflow) (0.37.1)\n",
      "Collecting google-auth-oauthlib<0.5,>=0.4.1\n",
      "  Downloading google_auth_oauthlib-0.4.6-py2.py3-none-any.whl (18 kB)\n",
      "Collecting tensorboard-plugin-wit>=1.6.0\n",
      "  Downloading tensorboard_plugin_wit-1.8.1-py3-none-any.whl (781 kB)\n",
      "Requirement already satisfied: markdown>=2.6.8 in c:\\users\\rodrigo\\anaconda3\\lib\\site-packages (from tensorboard<2.10,>=2.9->tensorflow) (3.3.4)\n",
      "Collecting tensorboard-data-server<0.7.0,>=0.6.0\n",
      "  Downloading tensorboard_data_server-0.6.1-py3-none-any.whl (2.4 kB)\n",
      "Requirement already satisfied: werkzeug>=1.0.1 in c:\\users\\rodrigo\\anaconda3\\lib\\site-packages (from tensorboard<2.10,>=2.9->tensorflow) (2.0.3)\n",
      "Requirement already satisfied: google-auth<3,>=1.6.3 in c:\\users\\rodrigo\\anaconda3\\lib\\site-packages (from tensorboard<2.10,>=2.9->tensorflow) (1.33.0)\n",
      "Requirement already satisfied: requests<3,>=2.21.0 in c:\\users\\rodrigo\\anaconda3\\lib\\site-packages (from tensorboard<2.10,>=2.9->tensorflow) (2.27.1)\n",
      "Requirement already satisfied: pyasn1-modules>=0.2.1 in c:\\users\\rodrigo\\anaconda3\\lib\\site-packages (from google-auth<3,>=1.6.3->tensorboard<2.10,>=2.9->tensorflow) (0.2.8)\n",
      "Requirement already satisfied: cachetools<5.0,>=2.0.0 in c:\\users\\rodrigo\\anaconda3\\lib\\site-packages (from google-auth<3,>=1.6.3->tensorboard<2.10,>=2.9->tensorflow) (4.2.2)\n",
      "Requirement already satisfied: rsa<5,>=3.1.4 in c:\\users\\rodrigo\\anaconda3\\lib\\site-packages (from google-auth<3,>=1.6.3->tensorboard<2.10,>=2.9->tensorflow) (4.7.2)\n",
      "Collecting requests-oauthlib>=0.7.0\n",
      "  Downloading requests_oauthlib-1.3.1-py2.py3-none-any.whl (23 kB)\n",
      "Requirement already satisfied: pyasn1<0.5.0,>=0.4.6 in c:\\users\\rodrigo\\anaconda3\\lib\\site-packages (from pyasn1-modules>=0.2.1->google-auth<3,>=1.6.3->tensorboard<2.10,>=2.9->tensorflow) (0.4.8)\n",
      "Requirement already satisfied: idna<4,>=2.5 in c:\\users\\rodrigo\\anaconda3\\lib\\site-packages (from requests<3,>=2.21.0->tensorboard<2.10,>=2.9->tensorflow) (3.3)\n",
      "Requirement already satisfied: urllib3<1.27,>=1.21.1 in c:\\users\\rodrigo\\anaconda3\\lib\\site-packages (from requests<3,>=2.21.0->tensorboard<2.10,>=2.9->tensorflow) (1.26.9)\n",
      "Requirement already satisfied: certifi>=2017.4.17 in c:\\users\\rodrigo\\anaconda3\\lib\\site-packages (from requests<3,>=2.21.0->tensorboard<2.10,>=2.9->tensorflow) (2021.10.8)\n",
      "Requirement already satisfied: charset-normalizer~=2.0.0 in c:\\users\\rodrigo\\anaconda3\\lib\\site-packages (from requests<3,>=2.21.0->tensorboard<2.10,>=2.9->tensorflow) (2.0.4)\n",
      "Collecting oauthlib>=3.0.0\n",
      "  Downloading oauthlib-3.2.0-py3-none-any.whl (151 kB)\n",
      "Requirement already satisfied: pyparsing!=3.0.5,>=2.0.2 in c:\\users\\rodrigo\\anaconda3\\lib\\site-packages (from packaging->tensorflow) (3.0.4)\n",
      "Building wheels for collected packages: termcolor\n",
      "  Building wheel for termcolor (setup.py): started\n",
      "  Building wheel for termcolor (setup.py): finished with status 'done'\n",
      "  Created wheel for termcolor: filename=termcolor-1.1.0-py3-none-any.whl size=4848 sha256=8209265c721d36af394ea59aa57c4b09f596e85ee23a029ae092b83f9ba40512\n",
      "  Stored in directory: c:\\users\\rodrigo\\appdata\\local\\pip\\cache\\wheels\\b6\\0d\\90\\0d1bbd99855f99cb2f6c2e5ff96f8023fad8ec367695f7d72d\n",
      "Successfully built termcolor\n",
      "Installing collected packages: oauthlib, requests-oauthlib, tensorboard-plugin-wit, tensorboard-data-server, google-auth-oauthlib, absl-py, termcolor, tensorflow-io-gcs-filesystem, tensorflow-estimator, tensorboard, opt-einsum, libclang, keras-preprocessing, google-pasta, gast, flatbuffers, astunparse, tensorflow\n",
      "Successfully installed absl-py-1.1.0 astunparse-1.6.3 flatbuffers-1.12 gast-0.4.0 google-auth-oauthlib-0.4.6 google-pasta-0.2.0 keras-preprocessing-1.1.2 libclang-14.0.1 oauthlib-3.2.0 opt-einsum-3.3.0 requests-oauthlib-1.3.1 tensorboard-2.9.1 tensorboard-data-server-0.6.1 tensorboard-plugin-wit-1.8.1 tensorflow-2.9.1 tensorflow-estimator-2.9.0 tensorflow-io-gcs-filesystem-0.26.0 termcolor-1.1.0\n"
     ]
    }
   ],
   "source": [
    "#!pip install tensorflow"
   ]
  },
  {
   "cell_type": "code",
   "execution_count": 3,
   "id": "5e0aa13a",
   "metadata": {},
   "outputs": [],
   "source": [
    "import pandas as pd\n",
    "import numpy as np\n",
    "import matplotlib.pyplot as plt\n",
    "from keras.datasets import mnist"
   ]
  },
  {
   "cell_type": "code",
   "execution_count": 4,
   "id": "2593b661",
   "metadata": {},
   "outputs": [
    {
     "name": "stdout",
     "output_type": "stream",
     "text": [
      "Downloading data from https://storage.googleapis.com/tensorflow/tf-keras-datasets/mnist.npz\n",
      "11490434/11490434 [==============================] - 2s 0us/step\n"
     ]
    }
   ],
   "source": [
    "(train_X, train_y), (test_X, test_y) = mnist.load_data()"
   ]
  },
  {
   "cell_type": "code",
   "execution_count": 5,
   "id": "76b12d5a",
   "metadata": {},
   "outputs": [
    {
     "data": {
      "text/plain": [
       "<Figure size 432x288 with 0 Axes>"
      ]
     },
     "metadata": {},
     "output_type": "display_data"
    },
    {
     "data": {
      "image/png": "[encoded data removed]",
      "text/plain": [
       "<Figure size 288x288 with 1 Axes>"
      ]
     },
     "metadata": {
      "needs_background": "light"
     },
     "output_type": "display_data"
    }
   ],
   "source": [
    "plt.gray()\n",
    "n = 11121### linha na matriz train de 0 a 59999\n",
    "plt.matshow(train_X[4])\n",
    "plt.title(train_y[4])\n",
    "plt.show()"
   ]
  },
  {
   "cell_type": "code",
   "execution_count": 6,
   "id": "2b8c4577",
   "metadata": {},
   "outputs": [
    {
     "data": {
      "text/plain": [
       "(60000, 28, 28)"
      ]
     },
     "execution_count": 6,
     "metadata": {},
     "output_type": "execute_result"
    }
   ],
   "source": [
    "train_X.shape"
   ]
  },
  {
   "cell_type": "code",
   "execution_count": 7,
   "id": "e802dcba",
   "metadata": {},
   "outputs": [],
   "source": [
    "train_X = train_X.reshape((train_X.shape[0],28*28))\n",
    "\n",
    "test_X = test_X.reshape((test_X.shape[0],28*28))"
   ]
  },
  {
   "cell_type": "markdown",
   "id": "f1f437d7",
   "metadata": {},
   "source": [
    "### Split treino e validação"
   ]
  },
  {
   "cell_type": "code",
   "execution_count": 8,
   "id": "b5bde132",
   "metadata": {},
   "outputs": [],
   "source": [
    "from sklearn.model_selection import train_test_split"
   ]
  },
  {
   "cell_type": "code",
   "execution_count": 9,
   "id": "78f2838b",
   "metadata": {},
   "outputs": [],
   "source": [
    "train_X, val_X, train_y, val_y = train_test_split(train_X, train_y, test_size=0.2, random_state=42)"
   ]
  },
  {
   "cell_type": "markdown",
   "id": "d217ed41",
   "metadata": {},
   "source": [
    "### Treinar modelo"
   ]
  },
  {
   "cell_type": "code",
   "execution_count": 10,
   "id": "cf5ba2ce",
   "metadata": {},
   "outputs": [],
   "source": [
    "from sklearn.ensemble import RandomForestClassifier"
   ]
  },
  {
   "cell_type": "code",
   "execution_count": 11,
   "id": "948e59a7",
   "metadata": {},
   "outputs": [],
   "source": [
    "clf = RandomForestClassifier(random_state=23, max_depth= 10)"
   ]
  },
  {
   "cell_type": "code",
   "execution_count": 12,
   "id": "954f501d",
   "metadata": {},
   "outputs": [
    {
     "name": "stdout",
     "output_type": "stream",
     "text": [
      "CPU times: total: 40.4 s\n",
      "Wall time: 42.8 s\n"
     ]
    },
    {
     "data": {
      "text/plain": [
       "RandomForestClassifier(max_depth=10, random_state=23)"
      ]
     },
     "execution_count": 12,
     "metadata": {},
     "output_type": "execute_result"
    }
   ],
   "source": [
    "%%time\n",
    "clf.fit(train_X, train_y)"
   ]
  },
  {
   "cell_type": "markdown",
   "id": "3bf03819",
   "metadata": {},
   "source": [
    "#### Principais métricas\n",
    "Acurácia\n",
    "\n",
    "Precisão\n",
    "\n",
    "Recall\n",
    "\n",
    "F1"
   ]
  },
  {
   "cell_type": "code",
   "execution_count": 13,
   "id": "66b47332",
   "metadata": {},
   "outputs": [
    {
     "data": {
      "text/plain": [
       "0.7714285714285715"
      ]
     },
     "execution_count": 13,
     "metadata": {},
     "output_type": "execute_result"
    }
   ],
   "source": [
    "## precisão \n",
    "### total de casos 100 casos, sendo 30 deles 1 e 70 0\n",
    "## modelo classificou 35 como 1, e acertou 27\n",
    "### precisão = acertou/(acertou+errou) = acertou/(classificou como X)\n",
    "27/35 ## precisao"
   ]
  },
  {
   "cell_type": "code",
   "execution_count": 14,
   "id": "828d42f8",
   "metadata": {},
   "outputs": [
    {
     "data": {
      "text/plain": [
       "0.92"
      ]
     },
     "execution_count": 14,
     "metadata": {},
     "output_type": "execute_result"
    }
   ],
   "source": [
    "(65+27)/100 ## acurácia"
   ]
  },
  {
   "cell_type": "code",
   "execution_count": 15,
   "id": "7635be88",
   "metadata": {},
   "outputs": [
    {
     "data": {
      "text/plain": [
       "0.9"
      ]
     },
     "execution_count": 15,
     "metadata": {},
     "output_type": "execute_result"
    }
   ],
   "source": [
    "## recall\n",
    "## dado o que vc precisava classificar como 1, o % q vc classificou corretamente como 1\n",
    "27/30"
   ]
  },
  {
   "cell_type": "code",
   "execution_count": 16,
   "id": "19e9c1d7",
   "metadata": {},
   "outputs": [
    {
     "data": {
      "text/plain": [
       "0.8299401197604791"
      ]
     },
     "execution_count": 16,
     "metadata": {},
     "output_type": "execute_result"
    }
   ],
   "source": [
    "2*(0.77*0.9)/(0.77+0.9)## F1"
   ]
  },
  {
   "cell_type": "markdown",
   "id": "74309f4f",
   "metadata": {},
   "source": [
    "##### Continuando a verificação de performance"
   ]
  },
  {
   "cell_type": "code",
   "execution_count": 17,
   "id": "c83ec177",
   "metadata": {},
   "outputs": [],
   "source": [
    "from sklearn.metrics import accuracy_score\n",
    "from sklearn.metrics import precision_score\n",
    "from sklearn.metrics import recall_score\n",
    "from sklearn.metrics import f1_score"
   ]
  },
  {
   "cell_type": "code",
   "execution_count": 19,
   "id": "fcfd595a",
   "metadata": {},
   "outputs": [
    {
     "name": "stdout",
     "output_type": "stream",
     "text": [
      "Acurácia: 0.94675 \n",
      "\n",
      "Precisao: [0.97531915 0.98108926 0.95400341 0.92288761 0.93367347 0.92844203\n",
      " 0.97366185 0.93841416 0.93017241 0.92629816] \n",
      "\n",
      "Recall: [0.97366185 0.96074074 0.93411176 0.94856661 0.94006849 0.96516008\n",
      " 0.96708861 0.95758052 0.9358196  0.88692863] \n",
      "\n",
      "F1: [0.9744898  0.97080838 0.9439528  0.93555094 0.93686007 0.94644506\n",
      " 0.9703641  0.94790047 0.93298746 0.90618599] \n",
      "\n"
     ]
    }
   ],
   "source": [
    "pred = clf.predict(val_X)\n",
    "\n",
    "print('Acurácia:',accuracy_score(pred, val_y),'\\n')\n",
    "print('Precisao:',precision_score(pred, val_y, average=None),'\\n')\n",
    "print('Recall:',recall_score(pred, val_y, average=None),'\\n')\n",
    "print('F1:',f1_score(pred, val_y, average=None),'\\n')"
   ]
  },
  {
   "cell_type": "code",
   "execution_count": 20,
   "id": "db7d8920",
   "metadata": {},
   "outputs": [
    {
     "name": "stdout",
     "output_type": "stream",
     "text": [
      "Acurácia: 0.9471 \n",
      "\n",
      "Precisao: [0.9877551  0.9876652  0.94379845 0.93663366 0.9185336  0.93049327\n",
      " 0.96868476 0.93093385 0.93223819 0.92864222] \n",
      "\n",
      "Recall: [0.96993988 0.97393571 0.94655005 0.946      0.94847529 0.9617613\n",
      " 0.95277207 0.95413759 0.93223819 0.88647114] \n",
      "\n",
      "F1: [0.97876643 0.98075241 0.94517225 0.94129353 0.93326436 0.94586895\n",
      " 0.96066253 0.94239291 0.93223819 0.9070668 ] \n",
      "\n"
     ]
    }
   ],
   "source": [
    "pred = clf.predict(test_X)\n",
    "\n",
    "print('Acurácia:',accuracy_score(pred, test_y),'\\n')\n",
    "print('Precisao:',precision_score(pred, test_y, average=None),'\\n')\n",
    "print('Recall:',recall_score(pred, test_y, average=None),'\\n')\n",
    "print('F1:',f1_score(pred, test_y, average=None),'\\n')"
   ]
  },
  {
   "cell_type": "code",
   "execution_count": 21,
   "id": "845177dd",
   "metadata": {},
   "outputs": [],
   "source": [
    "from sklearn.metrics import classification_report"
   ]
  },
  {
   "cell_type": "code",
   "execution_count": 22,
   "id": "b49aa228",
   "metadata": {},
   "outputs": [
    {
     "name": "stdout",
     "output_type": "stream",
     "text": [
      "              precision    recall  f1-score   support\n",
      "\n",
      "           0       0.98      0.97      0.97      1177\n",
      "           1       0.98      0.96      0.97      1350\n",
      "           2       0.95      0.93      0.94      1199\n",
      "           3       0.92      0.95      0.94      1186\n",
      "           4       0.93      0.94      0.94      1168\n",
      "           5       0.93      0.97      0.95      1062\n",
      "           6       0.97      0.97      0.97      1185\n",
      "           7       0.94      0.96      0.95      1273\n",
      "           8       0.93      0.94      0.93      1153\n",
      "           9       0.93      0.89      0.91      1247\n",
      "\n",
      "    accuracy                           0.95     12000\n",
      "   macro avg       0.95      0.95      0.95     12000\n",
      "weighted avg       0.95      0.95      0.95     12000\n",
      "\n"
     ]
    }
   ],
   "source": [
    "pred = clf.predict(val_X)\n",
    "\n",
    "print(classification_report(pred, val_y, labels = clf.classes_))"
   ]
  },
  {
   "cell_type": "code",
   "execution_count": 23,
   "id": "0d4ce30c",
   "metadata": {},
   "outputs": [
    {
     "name": "stdout",
     "output_type": "stream",
     "text": [
      "              precision    recall  f1-score   support\n",
      "\n",
      "           0       0.99      0.97      0.98       998\n",
      "           1       0.99      0.97      0.98      1151\n",
      "           2       0.94      0.95      0.95      1029\n",
      "           3       0.94      0.95      0.94      1000\n",
      "           4       0.92      0.95      0.93       951\n",
      "           5       0.93      0.96      0.95       863\n",
      "           6       0.97      0.95      0.96       974\n",
      "           7       0.93      0.95      0.94      1003\n",
      "           8       0.93      0.93      0.93       974\n",
      "           9       0.93      0.89      0.91      1057\n",
      "\n",
      "    accuracy                           0.95     10000\n",
      "   macro avg       0.95      0.95      0.95     10000\n",
      "weighted avg       0.95      0.95      0.95     10000\n",
      "\n"
     ]
    }
   ],
   "source": [
    "pred = clf.predict(test_X)\n",
    "\n",
    "print(classification_report(pred, test_y, labels = clf.classes_))"
   ]
  },
  {
   "cell_type": "markdown",
   "id": "ecb09e18",
   "metadata": {},
   "source": [
    "### Olhando via proba"
   ]
  },
  {
   "cell_type": "code",
   "execution_count": 24,
   "id": "3fa6db80",
   "metadata": {},
   "outputs": [
    {
     "data": {
      "text/html": [
       "<div>\n",
       "<style scoped>\n",
       "    .dataframe tbody tr th:only-of-type {\n",
       "        vertical-align: middle;\n",
       "    }\n",
       "\n",
       "    .dataframe tbody tr th {\n",
       "        vertical-align: top;\n",
       "    }\n",
       "\n",
       "    .dataframe thead th {\n",
       "        text-align: right;\n",
       "    }\n",
       "</style>\n",
       "<table border=\"1\" class=\"dataframe\">\n",
       "  <thead>\n",
       "    <tr style=\"text-align: right;\">\n",
       "      <th></th>\n",
       "      <th>0</th>\n",
       "      <th>1</th>\n",
       "      <th>2</th>\n",
       "      <th>3</th>\n",
       "      <th>4</th>\n",
       "      <th>5</th>\n",
       "      <th>6</th>\n",
       "      <th>7</th>\n",
       "      <th>8</th>\n",
       "      <th>9</th>\n",
       "    </tr>\n",
       "  </thead>\n",
       "  <tbody>\n",
       "    <tr>\n",
       "      <th>0</th>\n",
       "      <td>0.006416</td>\n",
       "      <td>0.003291</td>\n",
       "      <td>0.007887</td>\n",
       "      <td>0.037674</td>\n",
       "      <td>0.013866</td>\n",
       "      <td>0.032936</td>\n",
       "      <td>0.006452</td>\n",
       "      <td>0.851836</td>\n",
       "      <td>0.013779</td>\n",
       "      <td>0.025863</td>\n",
       "    </tr>\n",
       "    <tr>\n",
       "      <th>1</th>\n",
       "      <td>0.003398</td>\n",
       "      <td>0.001714</td>\n",
       "      <td>0.010832</td>\n",
       "      <td>0.890778</td>\n",
       "      <td>0.002463</td>\n",
       "      <td>0.050093</td>\n",
       "      <td>0.001266</td>\n",
       "      <td>0.001024</td>\n",
       "      <td>0.030452</td>\n",
       "      <td>0.007979</td>\n",
       "    </tr>\n",
       "    <tr>\n",
       "      <th>2</th>\n",
       "      <td>0.006381</td>\n",
       "      <td>0.012276</td>\n",
       "      <td>0.018179</td>\n",
       "      <td>0.036577</td>\n",
       "      <td>0.013008</td>\n",
       "      <td>0.040343</td>\n",
       "      <td>0.013553</td>\n",
       "      <td>0.007012</td>\n",
       "      <td>0.834895</td>\n",
       "      <td>0.017777</td>\n",
       "    </tr>\n",
       "    <tr>\n",
       "      <th>3</th>\n",
       "      <td>0.002001</td>\n",
       "      <td>0.008034</td>\n",
       "      <td>0.004943</td>\n",
       "      <td>0.012215</td>\n",
       "      <td>0.102780</td>\n",
       "      <td>0.017840</td>\n",
       "      <td>0.005455</td>\n",
       "      <td>0.041193</td>\n",
       "      <td>0.049899</td>\n",
       "      <td>0.755642</td>\n",
       "    </tr>\n",
       "    <tr>\n",
       "      <th>4</th>\n",
       "      <td>0.006925</td>\n",
       "      <td>0.002487</td>\n",
       "      <td>0.065808</td>\n",
       "      <td>0.842140</td>\n",
       "      <td>0.001019</td>\n",
       "      <td>0.028669</td>\n",
       "      <td>0.003916</td>\n",
       "      <td>0.001336</td>\n",
       "      <td>0.039140</td>\n",
       "      <td>0.008561</td>\n",
       "    </tr>\n",
       "  </tbody>\n",
       "</table>\n",
       "</div>"
      ],
      "text/plain": [
       "          0         1         2         3         4         5         6  \\\n",
       "0  0.006416  0.003291  0.007887  0.037674  0.013866  0.032936  0.006452   \n",
       "1  0.003398  0.001714  0.010832  0.890778  0.002463  0.050093  0.001266   \n",
       "2  0.006381  0.012276  0.018179  0.036577  0.013008  0.040343  0.013553   \n",
       "3  0.002001  0.008034  0.004943  0.012215  0.102780  0.017840  0.005455   \n",
       "4  0.006925  0.002487  0.065808  0.842140  0.001019  0.028669  0.003916   \n",
       "\n",
       "          7         8         9  \n",
       "0  0.851836  0.013779  0.025863  \n",
       "1  0.001024  0.030452  0.007979  \n",
       "2  0.007012  0.834895  0.017777  \n",
       "3  0.041193  0.049899  0.755642  \n",
       "4  0.001336  0.039140  0.008561  "
      ]
     },
     "execution_count": 24,
     "metadata": {},
     "output_type": "execute_result"
    }
   ],
   "source": [
    "df = pd.DataFrame(clf.predict_proba(val_X))\n",
    "df.head()"
   ]
  },
  {
   "cell_type": "code",
   "execution_count": 26,
   "id": "fa73b2bb",
   "metadata": {},
   "outputs": [
    {
     "data": {
      "text/html": [
       "<div>\n",
       "<style scoped>\n",
       "    .dataframe tbody tr th:only-of-type {\n",
       "        vertical-align: middle;\n",
       "    }\n",
       "\n",
       "    .dataframe tbody tr th {\n",
       "        vertical-align: top;\n",
       "    }\n",
       "\n",
       "    .dataframe thead th {\n",
       "        text-align: right;\n",
       "    }\n",
       "</style>\n",
       "<table border=\"1\" class=\"dataframe\">\n",
       "  <thead>\n",
       "    <tr style=\"text-align: right;\">\n",
       "      <th></th>\n",
       "      <th>0</th>\n",
       "      <th>1</th>\n",
       "      <th>2</th>\n",
       "      <th>3</th>\n",
       "      <th>4</th>\n",
       "      <th>5</th>\n",
       "      <th>6</th>\n",
       "      <th>7</th>\n",
       "      <th>8</th>\n",
       "      <th>9</th>\n",
       "    </tr>\n",
       "  </thead>\n",
       "  <tbody>\n",
       "    <tr>\n",
       "      <th>0</th>\n",
       "      <td>NaN</td>\n",
       "      <td>NaN</td>\n",
       "      <td>NaN</td>\n",
       "      <td>NaN</td>\n",
       "      <td>NaN</td>\n",
       "      <td>NaN</td>\n",
       "      <td>NaN</td>\n",
       "      <td>0.851836</td>\n",
       "      <td>NaN</td>\n",
       "      <td>NaN</td>\n",
       "    </tr>\n",
       "    <tr>\n",
       "      <th>1</th>\n",
       "      <td>NaN</td>\n",
       "      <td>NaN</td>\n",
       "      <td>NaN</td>\n",
       "      <td>0.890778</td>\n",
       "      <td>NaN</td>\n",
       "      <td>NaN</td>\n",
       "      <td>NaN</td>\n",
       "      <td>NaN</td>\n",
       "      <td>NaN</td>\n",
       "      <td>NaN</td>\n",
       "    </tr>\n",
       "    <tr>\n",
       "      <th>2</th>\n",
       "      <td>NaN</td>\n",
       "      <td>NaN</td>\n",
       "      <td>NaN</td>\n",
       "      <td>NaN</td>\n",
       "      <td>NaN</td>\n",
       "      <td>NaN</td>\n",
       "      <td>NaN</td>\n",
       "      <td>NaN</td>\n",
       "      <td>0.834895</td>\n",
       "      <td>NaN</td>\n",
       "    </tr>\n",
       "    <tr>\n",
       "      <th>3</th>\n",
       "      <td>NaN</td>\n",
       "      <td>NaN</td>\n",
       "      <td>NaN</td>\n",
       "      <td>NaN</td>\n",
       "      <td>NaN</td>\n",
       "      <td>NaN</td>\n",
       "      <td>NaN</td>\n",
       "      <td>NaN</td>\n",
       "      <td>NaN</td>\n",
       "      <td>NaN</td>\n",
       "    </tr>\n",
       "    <tr>\n",
       "      <th>4</th>\n",
       "      <td>NaN</td>\n",
       "      <td>NaN</td>\n",
       "      <td>NaN</td>\n",
       "      <td>0.842140</td>\n",
       "      <td>NaN</td>\n",
       "      <td>NaN</td>\n",
       "      <td>NaN</td>\n",
       "      <td>NaN</td>\n",
       "      <td>NaN</td>\n",
       "      <td>NaN</td>\n",
       "    </tr>\n",
       "    <tr>\n",
       "      <th>...</th>\n",
       "      <td>...</td>\n",
       "      <td>...</td>\n",
       "      <td>...</td>\n",
       "      <td>...</td>\n",
       "      <td>...</td>\n",
       "      <td>...</td>\n",
       "      <td>...</td>\n",
       "      <td>...</td>\n",
       "      <td>...</td>\n",
       "      <td>...</td>\n",
       "    </tr>\n",
       "    <tr>\n",
       "      <th>11995</th>\n",
       "      <td>NaN</td>\n",
       "      <td>NaN</td>\n",
       "      <td>0.839246</td>\n",
       "      <td>NaN</td>\n",
       "      <td>NaN</td>\n",
       "      <td>NaN</td>\n",
       "      <td>NaN</td>\n",
       "      <td>NaN</td>\n",
       "      <td>NaN</td>\n",
       "      <td>NaN</td>\n",
       "    </tr>\n",
       "    <tr>\n",
       "      <th>11996</th>\n",
       "      <td>NaN</td>\n",
       "      <td>NaN</td>\n",
       "      <td>NaN</td>\n",
       "      <td>NaN</td>\n",
       "      <td>NaN</td>\n",
       "      <td>NaN</td>\n",
       "      <td>NaN</td>\n",
       "      <td>NaN</td>\n",
       "      <td>NaN</td>\n",
       "      <td>NaN</td>\n",
       "    </tr>\n",
       "    <tr>\n",
       "      <th>11997</th>\n",
       "      <td>NaN</td>\n",
       "      <td>NaN</td>\n",
       "      <td>NaN</td>\n",
       "      <td>NaN</td>\n",
       "      <td>NaN</td>\n",
       "      <td>NaN</td>\n",
       "      <td>NaN</td>\n",
       "      <td>NaN</td>\n",
       "      <td>NaN</td>\n",
       "      <td>NaN</td>\n",
       "    </tr>\n",
       "    <tr>\n",
       "      <th>11998</th>\n",
       "      <td>NaN</td>\n",
       "      <td>NaN</td>\n",
       "      <td>NaN</td>\n",
       "      <td>NaN</td>\n",
       "      <td>NaN</td>\n",
       "      <td>NaN</td>\n",
       "      <td>NaN</td>\n",
       "      <td>NaN</td>\n",
       "      <td>NaN</td>\n",
       "      <td>NaN</td>\n",
       "    </tr>\n",
       "    <tr>\n",
       "      <th>11999</th>\n",
       "      <td>NaN</td>\n",
       "      <td>NaN</td>\n",
       "      <td>NaN</td>\n",
       "      <td>NaN</td>\n",
       "      <td>NaN</td>\n",
       "      <td>NaN</td>\n",
       "      <td>NaN</td>\n",
       "      <td>NaN</td>\n",
       "      <td>NaN</td>\n",
       "      <td>NaN</td>\n",
       "    </tr>\n",
       "  </tbody>\n",
       "</table>\n",
       "<p>12000 rows × 10 columns</p>\n",
       "</div>"
      ],
      "text/plain": [
       "        0   1         2         3   4   5   6         7         8   9\n",
       "0     NaN NaN       NaN       NaN NaN NaN NaN  0.851836       NaN NaN\n",
       "1     NaN NaN       NaN  0.890778 NaN NaN NaN       NaN       NaN NaN\n",
       "2     NaN NaN       NaN       NaN NaN NaN NaN       NaN  0.834895 NaN\n",
       "3     NaN NaN       NaN       NaN NaN NaN NaN       NaN       NaN NaN\n",
       "4     NaN NaN       NaN  0.842140 NaN NaN NaN       NaN       NaN NaN\n",
       "...    ..  ..       ...       ...  ..  ..  ..       ...       ...  ..\n",
       "11995 NaN NaN  0.839246       NaN NaN NaN NaN       NaN       NaN NaN\n",
       "11996 NaN NaN       NaN       NaN NaN NaN NaN       NaN       NaN NaN\n",
       "11997 NaN NaN       NaN       NaN NaN NaN NaN       NaN       NaN NaN\n",
       "11998 NaN NaN       NaN       NaN NaN NaN NaN       NaN       NaN NaN\n",
       "11999 NaN NaN       NaN       NaN NaN NaN NaN       NaN       NaN NaN\n",
       "\n",
       "[12000 rows x 10 columns]"
      ]
     },
     "execution_count": 26,
     "metadata": {},
     "output_type": "execute_result"
    }
   ],
   "source": [
    "df[df>0.8]"
   ]
  },
  {
   "cell_type": "code",
   "execution_count": 25,
   "id": "f45bc6e6",
   "metadata": {},
   "outputs": [
    {
     "data": {
      "text/plain": [
       "Int64Index([4, 9], dtype='int64')"
      ]
     },
     "execution_count": 25,
     "metadata": {},
     "output_type": "execute_result"
    }
   ],
   "source": [
    "df.columns[df.iloc[3]>0.1]"
   ]
  },
  {
   "cell_type": "code",
   "execution_count": null,
   "id": "6bdddd52",
   "metadata": {},
   "outputs": [],
   "source": []
  }
 ],
 "metadata": {
  "kernelspec": {
   "display_name": "Python 3 (ipykernel)",
   "language": "python",
   "name": "python3"
  },
  "language_info": {
   "codemirror_mode": {
    "name": "ipython",
    "version": 3
   },
   "file_extension": ".py",
   "mimetype": "text/x-python",
   "name": "python",
   "nbconvert_exporter": "python",
   "pygments_lexer": "ipython3",
   "version": "3.9.12"
  }
 },
 "nbformat": 4,
 "nbformat_minor": 5
}
