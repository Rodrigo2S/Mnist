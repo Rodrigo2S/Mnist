{
 "cells": [
  {
   "cell_type": "code",
   "execution_count": null,
   "id": "57e56b65",
   "metadata": {},
   "outputs": [],
   "source": [
    "#!pip install keras\n",
    "#!pip install tensorflow"
   ]
  },
  {
   "cell_type": "code",
   "execution_count": 1,
   "id": "21baff05",
   "metadata": {},
   "outputs": [],
   "source": [
    "import pandas as pd\n",
    "import numpy as np\n",
    "import matplotlib.pyplot as plt\n",
    "from keras.datasets import mnist"
   ]
  },
  {
   "cell_type": "code",
   "execution_count": 2,
   "id": "b03ef5b6",
   "metadata": {},
   "outputs": [],
   "source": [
    "(train_X, train_y), (test_X, test_y) = mnist.load_data()"
   ]
  },
  {
   "cell_type": "code",
   "execution_count": 8,
   "id": "0dff278c",
   "metadata": {},
   "outputs": [
    {
     "data": {
      "text/plain": [
       "<Figure size 432x288 with 0 Axes>"
      ]
     },
     "metadata": {},
     "output_type": "display_data"
    },
    {
     "data": {
      "image/png": "[encoded data removed]",
      "text/plain": [
       "<Figure size 288x288 with 1 Axes>"
      ]
     },
     "metadata": {
      "needs_background": "light"
     },
     "output_type": "display_data"
    }
   ],
   "source": [
    "plt.gray()\n",
    "n = 11121### linha na matriz train de 0 a 59999\n",
    "plt.matshow(train_X[4])\n",
    "plt.title(train_y[4])\n",
    "plt.show()"
   ]
  },
  {
   "cell_type": "code",
   "execution_count": 13,
   "id": "1f53d005",
   "metadata": {},
   "outputs": [
    {
     "data": {
      "text/plain": [
       "(60000, 28, 28)"
      ]
     },
     "execution_count": 13,
     "metadata": {},
     "output_type": "execute_result"
    }
   ],
   "source": [
    "train_X.shape"
   ]
  },
  {
   "cell_type": "code",
   "execution_count": 14,
   "id": "94be1451",
   "metadata": {},
   "outputs": [],
   "source": [
    "train_X = train_X.reshape((train_X.shape[0],28*28))\n",
    "\n",
    "test_X = test_X.reshape((test_X.shape[0],28*28))"
   ]
  },
  {
   "cell_type": "markdown",
   "id": "56e84856",
   "metadata": {},
   "source": [
    "### Split treino e validação"
   ]
  },
  {
   "cell_type": "code",
   "execution_count": 16,
   "id": "7bd3f360",
   "metadata": {},
   "outputs": [],
   "source": [
    "from sklearn.model_selection import train_test_split"
   ]
  },
  {
   "cell_type": "code",
   "execution_count": 19,
   "id": "94f1d313",
   "metadata": {},
   "outputs": [],
   "source": [
    "train_X, val_X, train_y, val_y = train_test_split(train_X, train_y, test_size=0.2, random_state=42)"
   ]
  },
  {
   "cell_type": "markdown",
   "id": "9c0385e0",
   "metadata": {},
   "source": [
    "### Treinar modelo"
   ]
  },
  {
   "cell_type": "code",
   "execution_count": 20,
   "id": "fda9602f",
   "metadata": {},
   "outputs": [],
   "source": [
    "from sklearn.ensemble import RandomForestClassifier"
   ]
  },
  {
   "cell_type": "code",
   "execution_count": 21,
   "id": "b3f38353",
   "metadata": {},
   "outputs": [],
   "source": [
    "clf = RandomForestClassifier(random_state=23, max_depth= 10)"
   ]
  },
  {
   "cell_type": "code",
   "execution_count": 23,
   "id": "6062dd24",
   "metadata": {},
   "outputs": [
    {
     "name": "stdout",
     "output_type": "stream",
     "text": [
      "Wall time: 27.1 s\n"
     ]
    },
    {
     "data": {
      "text/html": [
       "<style>#sk-container-id-1 {color: black;background-color: white;}#sk-container-id-1 pre{padding: 0;}#sk-container-id-1 div.sk-toggleable {background-color: white;}#sk-container-id-1 label.sk-toggleable__label {cursor: pointer;display: block;width: 100%;margin-bottom: 0;padding: 0.3em;box-sizing: border-box;text-align: center;}#sk-container-id-1 label.sk-toggleable__label-arrow:before {content: \"▸\";float: left;margin-right: 0.25em;color: #696969;}#sk-container-id-1 label.sk-toggleable__label-arrow:hover:before {color: black;}#sk-container-id-1 div.sk-estimator:hover label.sk-toggleable__label-arrow:before {color: black;}#sk-container-id-1 div.sk-toggleable__content {max-height: 0;max-width: 0;overflow: hidden;text-align: left;background-color: #f0f8ff;}#sk-container-id-1 div.sk-toggleable__content pre {margin: 0.2em;color: black;border-radius: 0.25em;background-color: #f0f8ff;}#sk-container-id-1 input.sk-toggleable__control:checked~div.sk-toggleable__content {max-height: 200px;max-width: 100%;overflow: auto;}#sk-container-id-1 input.sk-toggleable__control:checked~label.sk-toggleable__label-arrow:before {content: \"▾\";}#sk-container-id-1 div.sk-estimator input.sk-toggleable__control:checked~label.sk-toggleable__label {background-color: #d4ebff;}#sk-container-id-1 div.sk-label input.sk-toggleable__control:checked~label.sk-toggleable__label {background-color: #d4ebff;}#sk-container-id-1 input.sk-hidden--visually {border: 0;clip: rect(1px 1px 1px 1px);clip: rect(1px, 1px, 1px, 1px);height: 1px;margin: -1px;overflow: hidden;padding: 0;position: absolute;width: 1px;}#sk-container-id-1 div.sk-estimator {font-family: monospace;background-color: #f0f8ff;border: 1px dotted black;border-radius: 0.25em;box-sizing: border-box;margin-bottom: 0.5em;}#sk-container-id-1 div.sk-estimator:hover {background-color: #d4ebff;}#sk-container-id-1 div.sk-parallel-item::after {content: \"\";width: 100%;border-bottom: 1px solid gray;flex-grow: 1;}#sk-container-id-1 div.sk-label:hover label.sk-toggleable__label {background-color: #d4ebff;}#sk-container-id-1 div.sk-serial::before {content: \"\";position: absolute;border-left: 1px solid gray;box-sizing: border-box;top: 0;bottom: 0;left: 50%;z-index: 0;}#sk-container-id-1 div.sk-serial {display: flex;flex-direction: column;align-items: center;background-color: white;padding-right: 0.2em;padding-left: 0.2em;position: relative;}#sk-container-id-1 div.sk-item {position: relative;z-index: 1;}#sk-container-id-1 div.sk-parallel {display: flex;align-items: stretch;justify-content: center;background-color: white;position: relative;}#sk-container-id-1 div.sk-item::before, #sk-container-id-1 div.sk-parallel-item::before {content: \"\";position: absolute;border-left: 1px solid gray;box-sizing: border-box;top: 0;bottom: 0;left: 50%;z-index: -1;}#sk-container-id-1 div.sk-parallel-item {display: flex;flex-direction: column;z-index: 1;position: relative;background-color: white;}#sk-container-id-1 div.sk-parallel-item:first-child::after {align-self: flex-end;width: 50%;}#sk-container-id-1 div.sk-parallel-item:last-child::after {align-self: flex-start;width: 50%;}#sk-container-id-1 div.sk-parallel-item:only-child::after {width: 0;}#sk-container-id-1 div.sk-dashed-wrapped {border: 1px dashed gray;margin: 0 0.4em 0.5em 0.4em;box-sizing: border-box;padding-bottom: 0.4em;background-color: white;}#sk-container-id-1 div.sk-label label {font-family: monospace;font-weight: bold;display: inline-block;line-height: 1.2em;}#sk-container-id-1 div.sk-label-container {text-align: center;}#sk-container-id-1 div.sk-container {/* jupyter's `normalize.less` sets `[hidden] { display: none; }` but bootstrap.min.css set `[hidden] { display: none !important; }` so we also need the `!important` here to be able to override the default hidden behavior on the sphinx rendered scikit-learn.org. See: https://github.com/scikit-learn/scikit-learn/issues/21755 */display: inline-block !important;position: relative;}#sk-container-id-1 div.sk-text-repr-fallback {display: none;}</style><div id=\"sk-container-id-1\" class=\"sk-top-container\"><div class=\"sk-text-repr-fallback\"><pre>RandomForestClassifier(max_depth=10, random_state=23)</pre><b>In a Jupyter environment, please rerun this cell to show the HTML representation or trust the notebook. <br />On GitHub, the HTML representation is unable to render, please try loading this page with nbviewer.org.</b></div><div class=\"sk-container\" hidden><div class=\"sk-item\"><div class=\"sk-estimator sk-toggleable\"><input class=\"sk-toggleable__control sk-hidden--visually\" id=\"sk-estimator-id-1\" type=\"checkbox\" checked><label for=\"sk-estimator-id-1\" class=\"sk-toggleable__label sk-toggleable__label-arrow\">RandomForestClassifier</label><div class=\"sk-toggleable__content\"><pre>RandomForestClassifier(max_depth=10, random_state=23)</pre></div></div></div></div></div>"
      ],
      "text/plain": [
       "RandomForestClassifier(max_depth=10, random_state=23)"
      ]
     },
     "execution_count": 23,
     "metadata": {},
     "output_type": "execute_result"
    }
   ],
   "source": [
    "%%time\n",
    "clf.fit(train_X, train_y)"
   ]
  },
  {
   "cell_type": "markdown",
   "id": "4f5c4a10",
   "metadata": {},
   "source": [
    "#### Principais métricas\n",
    "Acurácia\n",
    "\n",
    "Precisão\n",
    "\n",
    "Recall\n",
    "\n",
    "F1"
   ]
  },
  {
   "cell_type": "code",
   "execution_count": 26,
   "id": "678411c2",
   "metadata": {},
   "outputs": [
    {
     "data": {
      "text/plain": [
       "0.7714285714285715"
      ]
     },
     "execution_count": 26,
     "metadata": {},
     "output_type": "execute_result"
    }
   ],
   "source": [
    "## precisão \n",
    "### total de casos 100 casos, sendo 30 deles 1 e 70 0\n",
    "## modelo classificou 35 como 1, e acertou 27\n",
    "### precisão = acertou/(acertou+errou) = acertou/(classificou como X)\n",
    "27/35 ## precisao"
   ]
  },
  {
   "cell_type": "code",
   "execution_count": 27,
   "id": "312d4c23",
   "metadata": {},
   "outputs": [
    {
     "data": {
      "text/plain": [
       "0.92"
      ]
     },
     "execution_count": 27,
     "metadata": {},
     "output_type": "execute_result"
    }
   ],
   "source": [
    "(65+27)/100 ## acurácia"
   ]
  },
  {
   "cell_type": "code",
   "execution_count": 28,
   "id": "2394a5d6",
   "metadata": {},
   "outputs": [
    {
     "data": {
      "text/plain": [
       "0.9"
      ]
     },
     "execution_count": 28,
     "metadata": {},
     "output_type": "execute_result"
    }
   ],
   "source": [
    "## recall\n",
    "## dado o qeu vc precisava classificar como 1, o % q vc classificou corretamente como 1\n",
    "27/30"
   ]
  },
  {
   "cell_type": "code",
   "execution_count": 29,
   "id": "41e533b4",
   "metadata": {
    "scrolled": true
   },
   "outputs": [
    {
     "data": {
      "text/plain": [
       "0.8299401197604791"
      ]
     },
     "execution_count": 29,
     "metadata": {},
     "output_type": "execute_result"
    }
   ],
   "source": [
    "2*(0.77*0.9)/(0.77+0.9)## F1"
   ]
  },
  {
   "cell_type": "markdown",
   "id": "c94f25d8",
   "metadata": {},
   "source": [
    "##### Continuando a verificação de performance"
   ]
  },
  {
   "cell_type": "code",
   "execution_count": 31,
   "id": "88cef651",
   "metadata": {},
   "outputs": [],
   "source": [
    "from sklearn.metrics import accuracy_score\n",
    "from sklearn.metrics import precision_score\n",
    "from sklearn.metrics import recall_score\n",
    "from sklearn.metrics import f1_score"
   ]
  },
  {
   "cell_type": "code",
   "execution_count": 42,
   "id": "09287661",
   "metadata": {},
   "outputs": [
    {
     "name": "stdout",
     "output_type": "stream",
     "text": [
      "Acurácia: 0.94675\n",
      "Precisao: [0.97531915 0.98108926 0.95400341 0.92288761 0.93367347 0.92844203\n",
      " 0.97366185 0.93841416 0.93017241 0.92629816] \n",
      "\n",
      "Recall: [0.97366185 0.96074074 0.93411176 0.94856661 0.94006849 0.96516008\n",
      " 0.96708861 0.95758052 0.9358196  0.88692863] \n",
      "\n",
      "F1 [0.9744898  0.97080838 0.9439528  0.93555094 0.93686007 0.94644506\n",
      " 0.9703641  0.94790047 0.93298746 0.90618599] \n",
      "\n"
     ]
    }
   ],
   "source": [
    "pred = clf.predict(val_X)\n",
    "\n",
    "print('Acurácia:',accuracy_score(pred, val_y))\n",
    "print('Precisao:',precision_score(pred, val_y, average=None),'\\n')\n",
    "print('Recall:',recall_score(pred, val_y, average=None),'\\n')\n",
    "print('F1',f1_score(pred, val_y, average=None),'\\n')"
   ]
  },
  {
   "cell_type": "code",
   "execution_count": 44,
   "id": "6d649f37",
   "metadata": {},
   "outputs": [
    {
     "name": "stdout",
     "output_type": "stream",
     "text": [
      "Acurácia: 0.9471\n",
      "Precisao: [0.9877551  0.9876652  0.94379845 0.93663366 0.9185336  0.93049327\n",
      " 0.96868476 0.93093385 0.93223819 0.92864222] \n",
      "\n",
      "Recall: [0.96993988 0.97393571 0.94655005 0.946      0.94847529 0.9617613\n",
      " 0.95277207 0.95413759 0.93223819 0.88647114] \n",
      "\n",
      "F1 [0.97876643 0.98075241 0.94517225 0.94129353 0.93326436 0.94586895\n",
      " 0.96066253 0.94239291 0.93223819 0.9070668 ] \n",
      "\n"
     ]
    }
   ],
   "source": [
    "pred = clf.predict(test_X)\n",
    "\n",
    "print('Acurácia:',accuracy_score(pred, test_y))\n",
    "print('Precisao:',precision_score(pred, test_y, average=None),'\\n')\n",
    "print('Recall:',recall_score(pred, test_y, average=None),'\\n')\n",
    "print('F1',f1_score(pred, test_y, average=None),'\\n')"
   ]
  },
  {
   "cell_type": "code",
   "execution_count": 51,
   "id": "c5406808",
   "metadata": {},
   "outputs": [],
   "source": [
    "from sklearn.metrics import classification_report"
   ]
  },
  {
   "cell_type": "code",
   "execution_count": 55,
   "id": "4dde5324",
   "metadata": {},
   "outputs": [
    {
     "name": "stdout",
     "output_type": "stream",
     "text": [
      "              precision    recall  f1-score   support\n",
      "\n",
      "           0       0.98      0.97      0.97      1177\n",
      "           1       0.98      0.96      0.97      1350\n",
      "           2       0.95      0.93      0.94      1199\n",
      "           3       0.92      0.95      0.94      1186\n",
      "           4       0.93      0.94      0.94      1168\n",
      "           5       0.93      0.97      0.95      1062\n",
      "           6       0.97      0.97      0.97      1185\n",
      "           7       0.94      0.96      0.95      1273\n",
      "           8       0.93      0.94      0.93      1153\n",
      "           9       0.93      0.89      0.91      1247\n",
      "\n",
      "    accuracy                           0.95     12000\n",
      "   macro avg       0.95      0.95      0.95     12000\n",
      "weighted avg       0.95      0.95      0.95     12000\n",
      "\n"
     ]
    }
   ],
   "source": [
    "pred = clf.predict(val_X)\n",
    "\n",
    "print(classification_report(pred, val_y, labels = clf.classes_))"
   ]
  },
  {
   "cell_type": "code",
   "execution_count": 54,
   "id": "8914787f",
   "metadata": {},
   "outputs": [
    {
     "name": "stdout",
     "output_type": "stream",
     "text": [
      "              precision    recall  f1-score   support\n",
      "\n",
      "           0       0.99      0.97      0.98       998\n",
      "           1       0.99      0.97      0.98      1151\n",
      "           2       0.94      0.95      0.95      1029\n",
      "           3       0.94      0.95      0.94      1000\n",
      "           4       0.92      0.95      0.93       951\n",
      "           5       0.93      0.96      0.95       863\n",
      "           6       0.97      0.95      0.96       974\n",
      "           7       0.93      0.95      0.94      1003\n",
      "           8       0.93      0.93      0.93       974\n",
      "           9       0.93      0.89      0.91      1057\n",
      "\n",
      "    accuracy                           0.95     10000\n",
      "   macro avg       0.95      0.95      0.95     10000\n",
      "weighted avg       0.95      0.95      0.95     10000\n",
      "\n"
     ]
    }
   ],
   "source": [
    "pred = clf.predict(test_X)\n",
    "\n",
    "print(classification_report(pred, test_y, labels = clf.classes_))"
   ]
  },
  {
   "cell_type": "markdown",
   "id": "a9ea3885",
   "metadata": {},
   "source": [
    "### Olhando via proba"
   ]
  },
  {
   "cell_type": "code",
   "execution_count": 62,
   "id": "eba04ba7",
   "metadata": {
    "scrolled": true
   },
   "outputs": [
    {
     "data": {
      "text/html": [
       "<div>\n",
       "<style scoped>\n",
       "    .dataframe tbody tr th:only-of-type {\n",
       "        vertical-align: middle;\n",
       "    }\n",
       "\n",
       "    .dataframe tbody tr th {\n",
       "        vertical-align: top;\n",
       "    }\n",
       "\n",
       "    .dataframe thead th {\n",
       "        text-align: right;\n",
       "    }\n",
       "</style>\n",
       "<table border=\"1\" class=\"dataframe\">\n",
       "  <thead>\n",
       "    <tr style=\"text-align: right;\">\n",
       "      <th></th>\n",
       "      <th>0</th>\n",
       "      <th>1</th>\n",
       "      <th>2</th>\n",
       "      <th>3</th>\n",
       "      <th>4</th>\n",
       "      <th>5</th>\n",
       "      <th>6</th>\n",
       "      <th>7</th>\n",
       "      <th>8</th>\n",
       "      <th>9</th>\n",
       "    </tr>\n",
       "  </thead>\n",
       "  <tbody>\n",
       "    <tr>\n",
       "      <th>0</th>\n",
       "      <td>0.006416</td>\n",
       "      <td>0.003291</td>\n",
       "      <td>0.007887</td>\n",
       "      <td>0.037674</td>\n",
       "      <td>0.013866</td>\n",
       "      <td>0.032936</td>\n",
       "      <td>0.006452</td>\n",
       "      <td>0.851836</td>\n",
       "      <td>0.013779</td>\n",
       "      <td>0.025863</td>\n",
       "    </tr>\n",
       "    <tr>\n",
       "      <th>1</th>\n",
       "      <td>0.003398</td>\n",
       "      <td>0.001714</td>\n",
       "      <td>0.010832</td>\n",
       "      <td>0.890778</td>\n",
       "      <td>0.002463</td>\n",
       "      <td>0.050093</td>\n",
       "      <td>0.001266</td>\n",
       "      <td>0.001024</td>\n",
       "      <td>0.030452</td>\n",
       "      <td>0.007979</td>\n",
       "    </tr>\n",
       "    <tr>\n",
       "      <th>2</th>\n",
       "      <td>0.006381</td>\n",
       "      <td>0.012276</td>\n",
       "      <td>0.018179</td>\n",
       "      <td>0.036577</td>\n",
       "      <td>0.013008</td>\n",
       "      <td>0.040343</td>\n",
       "      <td>0.013553</td>\n",
       "      <td>0.007012</td>\n",
       "      <td>0.834895</td>\n",
       "      <td>0.017777</td>\n",
       "    </tr>\n",
       "    <tr>\n",
       "      <th>3</th>\n",
       "      <td>0.002001</td>\n",
       "      <td>0.008034</td>\n",
       "      <td>0.004943</td>\n",
       "      <td>0.012215</td>\n",
       "      <td>0.102780</td>\n",
       "      <td>0.017840</td>\n",
       "      <td>0.005455</td>\n",
       "      <td>0.041193</td>\n",
       "      <td>0.049899</td>\n",
       "      <td>0.755642</td>\n",
       "    </tr>\n",
       "    <tr>\n",
       "      <th>4</th>\n",
       "      <td>0.006925</td>\n",
       "      <td>0.002487</td>\n",
       "      <td>0.065808</td>\n",
       "      <td>0.842140</td>\n",
       "      <td>0.001019</td>\n",
       "      <td>0.028669</td>\n",
       "      <td>0.003916</td>\n",
       "      <td>0.001336</td>\n",
       "      <td>0.039140</td>\n",
       "      <td>0.008561</td>\n",
       "    </tr>\n",
       "  </tbody>\n",
       "</table>\n",
       "</div>"
      ],
      "text/plain": [
       "          0         1         2         3         4         5         6  \\\n",
       "0  0.006416  0.003291  0.007887  0.037674  0.013866  0.032936  0.006452   \n",
       "1  0.003398  0.001714  0.010832  0.890778  0.002463  0.050093  0.001266   \n",
       "2  0.006381  0.012276  0.018179  0.036577  0.013008  0.040343  0.013553   \n",
       "3  0.002001  0.008034  0.004943  0.012215  0.102780  0.017840  0.005455   \n",
       "4  0.006925  0.002487  0.065808  0.842140  0.001019  0.028669  0.003916   \n",
       "\n",
       "          7         8         9  \n",
       "0  0.851836  0.013779  0.025863  \n",
       "1  0.001024  0.030452  0.007979  \n",
       "2  0.007012  0.834895  0.017777  \n",
       "3  0.041193  0.049899  0.755642  \n",
       "4  0.001336  0.039140  0.008561  "
      ]
     },
     "execution_count": 62,
     "metadata": {},
     "output_type": "execute_result"
    }
   ],
   "source": [
    "df = pd.DataFrame(clf.predict_proba(val_X))\n",
    "df.head()"
   ]
  },
  {
   "cell_type": "code",
   "execution_count": 74,
   "id": "06dbb05f",
   "metadata": {
    "scrolled": true
   },
   "outputs": [
    {
     "data": {
      "text/plain": [
       "Int64Index([4, 9], dtype='int64')"
      ]
     },
     "execution_count": 74,
     "metadata": {},
     "output_type": "execute_result"
    }
   ],
   "source": [
    "df.columns[df.iloc[3]>0.1]"
   ]
  }
 ],
 "metadata": {
  "kernelspec": {
   "display_name": "Python 3 (ipykernel)",
   "language": "python",
   "name": "python3"
  },
  "language_info": {
   "codemirror_mode": {
    "name": "ipython",
    "version": 3
   },
   "file_extension": ".py",
   "mimetype": "text/x-python",
   "name": "python",
   "nbconvert_exporter": "python",
   "pygments_lexer": "ipython3",
   "version": "3.9.12"
  }
 },
 "nbformat": 4,
 "nbformat_minor": 5
}
